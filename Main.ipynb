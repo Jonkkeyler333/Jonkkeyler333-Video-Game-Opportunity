{
 "cells": [
  {
   "cell_type": "markdown",
   "id": "2f03109b",
   "metadata": {},
   "source": [
    "# **Insights for a Colombian video game company**"
   ]
  },
  {
   "cell_type": "markdown",
   "id": "2c15a621",
   "metadata": {},
   "source": [
    "## **Overview**"
   ]
  },
  {
   "cell_type": "markdown",
   "id": "fe22284d",
   "metadata": {},
   "source": [
    "### The main idea of this project is to envision a scenario for a video game company based in Colombia. By analyzing the available data, the aim is to extract insights that will help the company make informed decisions regarding the previously outlined situation."
   ]
  },
  {
   "cell_type": "markdown",
   "id": "36db7b7c",
   "metadata": {},
   "source": [
    "## **The Scenario**"
   ]
  },
  {
   "cell_type": "markdown",
   "id": "a64859f1",
   "metadata": {},
   "source": [
    "A Colombian game company named *JKGames* wants to initiate a new release, introducing a fresh video game to their catalog. However, the company lacks ideas regarding the genre and platforms. They are seeking perspective on where to concentrate their release efforts. Fortunately, the company has access to video game sales data, which serves as a valuable starting point for generating ideas"
   ]
  },
  {
   "cell_type": "markdown",
   "id": "14562dda",
   "metadata": {},
   "source": [
    "## **Import the libraries**"
   ]
  },
  {
   "cell_type": "code",
   "execution_count": 2,
   "id": "18255180",
   "metadata": {},
   "outputs": [],
   "source": [
    "import numpy as np\n",
    "import pandas as pd\n",
    "import matplotlib.pyplot as plt"
   ]
  },
  {
   "cell_type": "markdown",
   "id": "53d34b39",
   "metadata": {},
   "source": [
    "## **Processing the data**"
   ]
  },
  {
   "cell_type": "code",
   "execution_count": 3,
   "id": "e9e58fed",
   "metadata": {},
   "outputs": [],
   "source": [
    "video_games_data=pd.read_csv('Video Games Sales.csv',index_col=0)"
   ]
  },
  {
   "cell_type": "markdown",
   "id": "a1e2a124",
   "metadata": {},
   "source": [
    "## **General view of the data**\n",
    "Look the dataset and verify the missing data"
   ]
  },
  {
   "cell_type": "code",
   "execution_count": 11,
   "id": "67735a59",
   "metadata": {},
   "outputs": [
    {
     "name": "stdout",
     "output_type": "stream",
     "text": [
      "<class 'pandas.core.frame.DataFrame'>\n",
      "Index: 1907 entries, 0 to 1906\n",
      "Data columns (total 12 columns):\n",
      " #   Column         Non-Null Count  Dtype  \n",
      "---  ------         --------------  -----  \n",
      " 0   Rank           1907 non-null   int64  \n",
      " 1   Game Title     1907 non-null   object \n",
      " 2   Platform       1907 non-null   object \n",
      " 3   Year           1878 non-null   float64\n",
      " 4   Genre          1907 non-null   object \n",
      " 5   Publisher      1905 non-null   object \n",
      " 6   North America  1907 non-null   float64\n",
      " 7   Europe         1907 non-null   float64\n",
      " 8   Japan          1907 non-null   float64\n",
      " 9   Rest of World  1907 non-null   float64\n",
      " 10  Global         1907 non-null   float64\n",
      " 11  Review         1907 non-null   float64\n",
      "dtypes: float64(7), int64(1), object(4)\n",
      "memory usage: 193.7+ KB\n"
     ]
    },
    {
     "data": {
      "text/html": [
       "<div>\n",
       "<style scoped>\n",
       "    .dataframe tbody tr th:only-of-type {\n",
       "        vertical-align: middle;\n",
       "    }\n",
       "\n",
       "    .dataframe tbody tr th {\n",
       "        vertical-align: top;\n",
       "    }\n",
       "\n",
       "    .dataframe thead th {\n",
       "        text-align: right;\n",
       "    }\n",
       "</style>\n",
       "<table border=\"1\" class=\"dataframe\">\n",
       "  <thead>\n",
       "    <tr style=\"text-align: right;\">\n",
       "      <th></th>\n",
       "      <th>Rank</th>\n",
       "      <th>Game Title</th>\n",
       "      <th>Platform</th>\n",
       "      <th>Year</th>\n",
       "      <th>Genre</th>\n",
       "      <th>Publisher</th>\n",
       "      <th>North America</th>\n",
       "      <th>Europe</th>\n",
       "      <th>Japan</th>\n",
       "      <th>Rest of World</th>\n",
       "      <th>Global</th>\n",
       "      <th>Review</th>\n",
       "    </tr>\n",
       "    <tr>\n",
       "      <th>index</th>\n",
       "      <th></th>\n",
       "      <th></th>\n",
       "      <th></th>\n",
       "      <th></th>\n",
       "      <th></th>\n",
       "      <th></th>\n",
       "      <th></th>\n",
       "      <th></th>\n",
       "      <th></th>\n",
       "      <th></th>\n",
       "      <th></th>\n",
       "      <th></th>\n",
       "    </tr>\n",
       "  </thead>\n",
       "  <tbody>\n",
       "    <tr>\n",
       "      <th>0</th>\n",
       "      <td>1</td>\n",
       "      <td>Wii Sports</td>\n",
       "      <td>Wii</td>\n",
       "      <td>2006.0</td>\n",
       "      <td>Sports</td>\n",
       "      <td>Nintendo</td>\n",
       "      <td>40.43</td>\n",
       "      <td>28.39</td>\n",
       "      <td>3.77</td>\n",
       "      <td>8.54</td>\n",
       "      <td>81.12</td>\n",
       "      <td>76.28</td>\n",
       "    </tr>\n",
       "    <tr>\n",
       "      <th>1</th>\n",
       "      <td>2</td>\n",
       "      <td>Super Mario Bros.</td>\n",
       "      <td>NES</td>\n",
       "      <td>1985.0</td>\n",
       "      <td>Platform</td>\n",
       "      <td>Nintendo</td>\n",
       "      <td>29.08</td>\n",
       "      <td>3.58</td>\n",
       "      <td>6.81</td>\n",
       "      <td>0.77</td>\n",
       "      <td>40.24</td>\n",
       "      <td>91.00</td>\n",
       "    </tr>\n",
       "    <tr>\n",
       "      <th>2</th>\n",
       "      <td>3</td>\n",
       "      <td>Mario Kart Wii</td>\n",
       "      <td>Wii</td>\n",
       "      <td>2008.0</td>\n",
       "      <td>Racing</td>\n",
       "      <td>Nintendo</td>\n",
       "      <td>14.50</td>\n",
       "      <td>12.22</td>\n",
       "      <td>3.63</td>\n",
       "      <td>3.21</td>\n",
       "      <td>33.55</td>\n",
       "      <td>82.07</td>\n",
       "    </tr>\n",
       "    <tr>\n",
       "      <th>3</th>\n",
       "      <td>4</td>\n",
       "      <td>Wii Sports Resort</td>\n",
       "      <td>Wii</td>\n",
       "      <td>2009.0</td>\n",
       "      <td>Sports</td>\n",
       "      <td>Nintendo</td>\n",
       "      <td>14.82</td>\n",
       "      <td>10.51</td>\n",
       "      <td>3.18</td>\n",
       "      <td>3.01</td>\n",
       "      <td>31.52</td>\n",
       "      <td>82.65</td>\n",
       "    </tr>\n",
       "    <tr>\n",
       "      <th>4</th>\n",
       "      <td>5</td>\n",
       "      <td>Tetris</td>\n",
       "      <td>GB</td>\n",
       "      <td>1989.0</td>\n",
       "      <td>Puzzle</td>\n",
       "      <td>Nintendo</td>\n",
       "      <td>23.20</td>\n",
       "      <td>2.26</td>\n",
       "      <td>4.22</td>\n",
       "      <td>0.58</td>\n",
       "      <td>30.26</td>\n",
       "      <td>88.00</td>\n",
       "    </tr>\n",
       "    <tr>\n",
       "      <th>5</th>\n",
       "      <td>6</td>\n",
       "      <td>New Super Mario Bros.</td>\n",
       "      <td>DS</td>\n",
       "      <td>2006.0</td>\n",
       "      <td>Platform</td>\n",
       "      <td>Nintendo</td>\n",
       "      <td>10.85</td>\n",
       "      <td>8.87</td>\n",
       "      <td>6.48</td>\n",
       "      <td>2.88</td>\n",
       "      <td>29.08</td>\n",
       "      <td>90.00</td>\n",
       "    </tr>\n",
       "    <tr>\n",
       "      <th>6</th>\n",
       "      <td>7</td>\n",
       "      <td>Wii Play</td>\n",
       "      <td>Wii</td>\n",
       "      <td>2006.0</td>\n",
       "      <td>Misc</td>\n",
       "      <td>Nintendo</td>\n",
       "      <td>13.83</td>\n",
       "      <td>9.11</td>\n",
       "      <td>2.93</td>\n",
       "      <td>2.84</td>\n",
       "      <td>28.71</td>\n",
       "      <td>61.64</td>\n",
       "    </tr>\n",
       "    <tr>\n",
       "      <th>7</th>\n",
       "      <td>8</td>\n",
       "      <td>Duck Hunt</td>\n",
       "      <td>NES</td>\n",
       "      <td>1984.0</td>\n",
       "      <td>Shooter</td>\n",
       "      <td>Nintendo</td>\n",
       "      <td>26.93</td>\n",
       "      <td>0.63</td>\n",
       "      <td>0.28</td>\n",
       "      <td>0.47</td>\n",
       "      <td>28.31</td>\n",
       "      <td>84.00</td>\n",
       "    </tr>\n",
       "    <tr>\n",
       "      <th>8</th>\n",
       "      <td>9</td>\n",
       "      <td>New Super Mario Bros. Wii</td>\n",
       "      <td>Wii</td>\n",
       "      <td>2009.0</td>\n",
       "      <td>Platform</td>\n",
       "      <td>Nintendo</td>\n",
       "      <td>13.35</td>\n",
       "      <td>6.48</td>\n",
       "      <td>4.66</td>\n",
       "      <td>2.25</td>\n",
       "      <td>26.75</td>\n",
       "      <td>88.18</td>\n",
       "    </tr>\n",
       "    <tr>\n",
       "      <th>9</th>\n",
       "      <td>10</td>\n",
       "      <td>Nintendogs</td>\n",
       "      <td>DS</td>\n",
       "      <td>2005.0</td>\n",
       "      <td>Simulation</td>\n",
       "      <td>Nintendo</td>\n",
       "      <td>9.02</td>\n",
       "      <td>10.81</td>\n",
       "      <td>1.93</td>\n",
       "      <td>2.73</td>\n",
       "      <td>24.50</td>\n",
       "      <td>85.00</td>\n",
       "    </tr>\n",
       "  </tbody>\n",
       "</table>\n",
       "</div>"
      ],
      "text/plain": [
       "       Rank                 Game Title Platform    Year       Genre Publisher  \\\n",
       "index                                                                           \n",
       "0         1                 Wii Sports      Wii  2006.0      Sports  Nintendo   \n",
       "1         2          Super Mario Bros.      NES  1985.0    Platform  Nintendo   \n",
       "2         3             Mario Kart Wii      Wii  2008.0      Racing  Nintendo   \n",
       "3         4          Wii Sports Resort      Wii  2009.0      Sports  Nintendo   \n",
       "4         5                     Tetris       GB  1989.0      Puzzle  Nintendo   \n",
       "5         6      New Super Mario Bros.       DS  2006.0    Platform  Nintendo   \n",
       "6         7                   Wii Play      Wii  2006.0        Misc  Nintendo   \n",
       "7         8                  Duck Hunt      NES  1984.0     Shooter  Nintendo   \n",
       "8         9  New Super Mario Bros. Wii      Wii  2009.0    Platform  Nintendo   \n",
       "9        10                 Nintendogs       DS  2005.0  Simulation  Nintendo   \n",
       "\n",
       "       North America  Europe  Japan  Rest of World  Global  Review  \n",
       "index                                                               \n",
       "0              40.43   28.39   3.77           8.54   81.12   76.28  \n",
       "1              29.08    3.58   6.81           0.77   40.24   91.00  \n",
       "2              14.50   12.22   3.63           3.21   33.55   82.07  \n",
       "3              14.82   10.51   3.18           3.01   31.52   82.65  \n",
       "4              23.20    2.26   4.22           0.58   30.26   88.00  \n",
       "5              10.85    8.87   6.48           2.88   29.08   90.00  \n",
       "6              13.83    9.11   2.93           2.84   28.71   61.64  \n",
       "7              26.93    0.63   0.28           0.47   28.31   84.00  \n",
       "8              13.35    6.48   4.66           2.25   26.75   88.18  \n",
       "9               9.02   10.81   1.93           2.73   24.50   85.00  "
      ]
     },
     "execution_count": 11,
     "metadata": {},
     "output_type": "execute_result"
    }
   ],
   "source": [
    "video_games_data.info()\n",
    "video_games_data.head(10)"
   ]
  },
  {
   "cell_type": "code",
   "execution_count": 7,
   "id": "163947f4",
   "metadata": {},
   "outputs": [
    {
     "data": {
      "text/html": [
       "<div>\n",
       "<style scoped>\n",
       "    .dataframe tbody tr th:only-of-type {\n",
       "        vertical-align: middle;\n",
       "    }\n",
       "\n",
       "    .dataframe tbody tr th {\n",
       "        vertical-align: top;\n",
       "    }\n",
       "\n",
       "    .dataframe thead th {\n",
       "        text-align: right;\n",
       "    }\n",
       "</style>\n",
       "<table border=\"1\" class=\"dataframe\">\n",
       "  <thead>\n",
       "    <tr style=\"text-align: right;\">\n",
       "      <th></th>\n",
       "      <th>Rank</th>\n",
       "      <th>Game Title</th>\n",
       "      <th>Platform</th>\n",
       "      <th>Year</th>\n",
       "      <th>Genre</th>\n",
       "      <th>Publisher</th>\n",
       "      <th>North America</th>\n",
       "      <th>Europe</th>\n",
       "      <th>Japan</th>\n",
       "      <th>Rest of World</th>\n",
       "      <th>Global</th>\n",
       "      <th>Review</th>\n",
       "    </tr>\n",
       "    <tr>\n",
       "      <th>index</th>\n",
       "      <th></th>\n",
       "      <th></th>\n",
       "      <th></th>\n",
       "      <th></th>\n",
       "      <th></th>\n",
       "      <th></th>\n",
       "      <th></th>\n",
       "      <th></th>\n",
       "      <th></th>\n",
       "      <th></th>\n",
       "      <th></th>\n",
       "      <th></th>\n",
       "    </tr>\n",
       "  </thead>\n",
       "  <tbody>\n",
       "    <tr>\n",
       "      <th>1897</th>\n",
       "      <td>1898</td>\n",
       "      <td>Ace Combat 3: Electrosphere</td>\n",
       "      <td>PS</td>\n",
       "      <td>1999.0</td>\n",
       "      <td>Simulation</td>\n",
       "      <td>Sony Computer Entertainment</td>\n",
       "      <td>0.22</td>\n",
       "      <td>0.15</td>\n",
       "      <td>0.40</td>\n",
       "      <td>0.05</td>\n",
       "      <td>0.83</td>\n",
       "      <td>73.92</td>\n",
       "    </tr>\n",
       "    <tr>\n",
       "      <th>1898</th>\n",
       "      <td>1899</td>\n",
       "      <td>Dynasty Warriors 2</td>\n",
       "      <td>PS2</td>\n",
       "      <td>2000.0</td>\n",
       "      <td>Action</td>\n",
       "      <td>THQ</td>\n",
       "      <td>0.24</td>\n",
       "      <td>0.19</td>\n",
       "      <td>0.34</td>\n",
       "      <td>0.06</td>\n",
       "      <td>0.83</td>\n",
       "      <td>71.88</td>\n",
       "    </tr>\n",
       "    <tr>\n",
       "      <th>1899</th>\n",
       "      <td>1900</td>\n",
       "      <td>Madden NFL 07</td>\n",
       "      <td>PSP</td>\n",
       "      <td>NaN</td>\n",
       "      <td>Sports</td>\n",
       "      <td>Unknown</td>\n",
       "      <td>0.77</td>\n",
       "      <td>0.03</td>\n",
       "      <td>0.00</td>\n",
       "      <td>0.04</td>\n",
       "      <td>0.83</td>\n",
       "      <td>84.00</td>\n",
       "    </tr>\n",
       "    <tr>\n",
       "      <th>1900</th>\n",
       "      <td>1901</td>\n",
       "      <td>Army of Two: The 40th Day</td>\n",
       "      <td>X360</td>\n",
       "      <td>2010.0</td>\n",
       "      <td>Shooter</td>\n",
       "      <td>Electronic Arts</td>\n",
       "      <td>0.52</td>\n",
       "      <td>0.22</td>\n",
       "      <td>0.00</td>\n",
       "      <td>0.08</td>\n",
       "      <td>0.83</td>\n",
       "      <td>72.32</td>\n",
       "    </tr>\n",
       "    <tr>\n",
       "      <th>1901</th>\n",
       "      <td>1902</td>\n",
       "      <td>Medal of Honor: Warfighter</td>\n",
       "      <td>X360</td>\n",
       "      <td>2012.0</td>\n",
       "      <td>Shooter</td>\n",
       "      <td>Electronic Arts</td>\n",
       "      <td>0.42</td>\n",
       "      <td>0.32</td>\n",
       "      <td>0.01</td>\n",
       "      <td>0.09</td>\n",
       "      <td>0.83</td>\n",
       "      <td>68.00</td>\n",
       "    </tr>\n",
       "    <tr>\n",
       "      <th>1902</th>\n",
       "      <td>1903</td>\n",
       "      <td>Lizzie McGuire 2: Lizzie Diaries</td>\n",
       "      <td>GBA</td>\n",
       "      <td>2004.0</td>\n",
       "      <td>Action</td>\n",
       "      <td>Disney Interactive Studios</td>\n",
       "      <td>0.60</td>\n",
       "      <td>0.22</td>\n",
       "      <td>0.00</td>\n",
       "      <td>0.01</td>\n",
       "      <td>0.83</td>\n",
       "      <td>55.00</td>\n",
       "    </tr>\n",
       "    <tr>\n",
       "      <th>1903</th>\n",
       "      <td>1904</td>\n",
       "      <td>Xenoblade Chronicles</td>\n",
       "      <td>Wii</td>\n",
       "      <td>2010.0</td>\n",
       "      <td>Role-Playing</td>\n",
       "      <td>Nintendo</td>\n",
       "      <td>0.39</td>\n",
       "      <td>0.22</td>\n",
       "      <td>0.16</td>\n",
       "      <td>0.07</td>\n",
       "      <td>0.83</td>\n",
       "      <td>91.74</td>\n",
       "    </tr>\n",
       "    <tr>\n",
       "      <th>1904</th>\n",
       "      <td>1905</td>\n",
       "      <td>SingStar Abba</td>\n",
       "      <td>PS3</td>\n",
       "      <td>2008.0</td>\n",
       "      <td>Misc</td>\n",
       "      <td>Sony Computer Entertainment</td>\n",
       "      <td>0.25</td>\n",
       "      <td>0.44</td>\n",
       "      <td>0.00</td>\n",
       "      <td>0.14</td>\n",
       "      <td>0.83</td>\n",
       "      <td>73.00</td>\n",
       "    </tr>\n",
       "    <tr>\n",
       "      <th>1905</th>\n",
       "      <td>1906</td>\n",
       "      <td>FIFA Soccer World Championship</td>\n",
       "      <td>PS2</td>\n",
       "      <td>2000.0</td>\n",
       "      <td>Sports</td>\n",
       "      <td>Electronic Arts</td>\n",
       "      <td>0.27</td>\n",
       "      <td>0.21</td>\n",
       "      <td>0.28</td>\n",
       "      <td>0.07</td>\n",
       "      <td>0.83</td>\n",
       "      <td>73.00</td>\n",
       "    </tr>\n",
       "    <tr>\n",
       "      <th>1906</th>\n",
       "      <td>1907</td>\n",
       "      <td>WWE SmackDown vs. Raw 2011</td>\n",
       "      <td>X360</td>\n",
       "      <td>2010.0</td>\n",
       "      <td>Fighting</td>\n",
       "      <td>THQ</td>\n",
       "      <td>0.42</td>\n",
       "      <td>0.32</td>\n",
       "      <td>0.00</td>\n",
       "      <td>0.09</td>\n",
       "      <td>0.83</td>\n",
       "      <td>82.00</td>\n",
       "    </tr>\n",
       "  </tbody>\n",
       "</table>\n",
       "</div>"
      ],
      "text/plain": [
       "       Rank                        Game Title Platform    Year         Genre  \\\n",
       "index                                                                          \n",
       "1897   1898       Ace Combat 3: Electrosphere       PS  1999.0    Simulation   \n",
       "1898   1899                Dynasty Warriors 2      PS2  2000.0        Action   \n",
       "1899   1900                     Madden NFL 07      PSP     NaN        Sports   \n",
       "1900   1901         Army of Two: The 40th Day     X360  2010.0       Shooter   \n",
       "1901   1902        Medal of Honor: Warfighter     X360  2012.0       Shooter   \n",
       "1902   1903  Lizzie McGuire 2: Lizzie Diaries      GBA  2004.0        Action   \n",
       "1903   1904              Xenoblade Chronicles      Wii  2010.0  Role-Playing   \n",
       "1904   1905                     SingStar Abba      PS3  2008.0          Misc   \n",
       "1905   1906    FIFA Soccer World Championship      PS2  2000.0        Sports   \n",
       "1906   1907        WWE SmackDown vs. Raw 2011     X360  2010.0      Fighting   \n",
       "\n",
       "                         Publisher  North America  Europe  Japan  \\\n",
       "index                                                              \n",
       "1897   Sony Computer Entertainment           0.22    0.15   0.40   \n",
       "1898                           THQ           0.24    0.19   0.34   \n",
       "1899                       Unknown           0.77    0.03   0.00   \n",
       "1900               Electronic Arts           0.52    0.22   0.00   \n",
       "1901               Electronic Arts           0.42    0.32   0.01   \n",
       "1902    Disney Interactive Studios           0.60    0.22   0.00   \n",
       "1903                      Nintendo           0.39    0.22   0.16   \n",
       "1904   Sony Computer Entertainment           0.25    0.44   0.00   \n",
       "1905               Electronic Arts           0.27    0.21   0.28   \n",
       "1906                           THQ           0.42    0.32   0.00   \n",
       "\n",
       "       Rest of World  Global  Review  \n",
       "index                                 \n",
       "1897            0.05    0.83   73.92  \n",
       "1898            0.06    0.83   71.88  \n",
       "1899            0.04    0.83   84.00  \n",
       "1900            0.08    0.83   72.32  \n",
       "1901            0.09    0.83   68.00  \n",
       "1902            0.01    0.83   55.00  \n",
       "1903            0.07    0.83   91.74  \n",
       "1904            0.14    0.83   73.00  \n",
       "1905            0.07    0.83   73.00  \n",
       "1906            0.09    0.83   82.00  "
      ]
     },
     "execution_count": 7,
     "metadata": {},
     "output_type": "execute_result"
    }
   ],
   "source": [
    "video_games_data.tail(10)"
   ]
  },
  {
   "cell_type": "markdown",
   "id": "11ad2ec8",
   "metadata": {},
   "source": [
    "The sales of each videogame have been registred how *North America ,Europe ,Japan , Rest of World ,Global* , and been in million of dolars."
   ]
  },
  {
   "cell_type": "markdown",
   "id": "4168e8fb",
   "metadata": {},
   "source": [
    "Statistics general of the data"
   ]
  },
  {
   "cell_type": "code",
   "execution_count": 9,
   "id": "12553e99",
   "metadata": {},
   "outputs": [
    {
     "data": {
      "text/html": [
       "<div>\n",
       "<style scoped>\n",
       "    .dataframe tbody tr th:only-of-type {\n",
       "        vertical-align: middle;\n",
       "    }\n",
       "\n",
       "    .dataframe tbody tr th {\n",
       "        vertical-align: top;\n",
       "    }\n",
       "\n",
       "    .dataframe thead th {\n",
       "        text-align: right;\n",
       "    }\n",
       "</style>\n",
       "<table border=\"1\" class=\"dataframe\">\n",
       "  <thead>\n",
       "    <tr style=\"text-align: right;\">\n",
       "      <th></th>\n",
       "      <th>Rank</th>\n",
       "      <th>Year</th>\n",
       "      <th>North America</th>\n",
       "      <th>Europe</th>\n",
       "      <th>Japan</th>\n",
       "      <th>Rest of World</th>\n",
       "      <th>Global</th>\n",
       "      <th>Review</th>\n",
       "    </tr>\n",
       "  </thead>\n",
       "  <tbody>\n",
       "    <tr>\n",
       "      <th>count</th>\n",
       "      <td>1907.0000</td>\n",
       "      <td>1878.000000</td>\n",
       "      <td>1907.000000</td>\n",
       "      <td>1907.000000</td>\n",
       "      <td>1907.000000</td>\n",
       "      <td>1907.000000</td>\n",
       "      <td>1907.000000</td>\n",
       "      <td>1907.000000</td>\n",
       "    </tr>\n",
       "    <tr>\n",
       "      <th>mean</th>\n",
       "      <td>954.0000</td>\n",
       "      <td>2003.766773</td>\n",
       "      <td>1.258789</td>\n",
       "      <td>0.706675</td>\n",
       "      <td>0.317493</td>\n",
       "      <td>0.206471</td>\n",
       "      <td>2.489240</td>\n",
       "      <td>79.038977</td>\n",
       "    </tr>\n",
       "    <tr>\n",
       "      <th>std</th>\n",
       "      <td>550.6478</td>\n",
       "      <td>5.895369</td>\n",
       "      <td>1.956560</td>\n",
       "      <td>1.148904</td>\n",
       "      <td>0.724945</td>\n",
       "      <td>0.343093</td>\n",
       "      <td>3.563159</td>\n",
       "      <td>10.616899</td>\n",
       "    </tr>\n",
       "    <tr>\n",
       "      <th>min</th>\n",
       "      <td>1.0000</td>\n",
       "      <td>1983.000000</td>\n",
       "      <td>0.000000</td>\n",
       "      <td>0.000000</td>\n",
       "      <td>0.000000</td>\n",
       "      <td>0.000000</td>\n",
       "      <td>0.830000</td>\n",
       "      <td>30.500000</td>\n",
       "    </tr>\n",
       "    <tr>\n",
       "      <th>25%</th>\n",
       "      <td>477.5000</td>\n",
       "      <td>2000.000000</td>\n",
       "      <td>0.510000</td>\n",
       "      <td>0.230000</td>\n",
       "      <td>0.000000</td>\n",
       "      <td>0.060000</td>\n",
       "      <td>1.110000</td>\n",
       "      <td>74.000000</td>\n",
       "    </tr>\n",
       "    <tr>\n",
       "      <th>50%</th>\n",
       "      <td>954.0000</td>\n",
       "      <td>2005.000000</td>\n",
       "      <td>0.810000</td>\n",
       "      <td>0.440000</td>\n",
       "      <td>0.020000</td>\n",
       "      <td>0.130000</td>\n",
       "      <td>1.530000</td>\n",
       "      <td>81.000000</td>\n",
       "    </tr>\n",
       "    <tr>\n",
       "      <th>75%</th>\n",
       "      <td>1430.5000</td>\n",
       "      <td>2008.000000</td>\n",
       "      <td>1.375000</td>\n",
       "      <td>0.810000</td>\n",
       "      <td>0.300000</td>\n",
       "      <td>0.220000</td>\n",
       "      <td>2.540000</td>\n",
       "      <td>86.230000</td>\n",
       "    </tr>\n",
       "    <tr>\n",
       "      <th>max</th>\n",
       "      <td>1907.0000</td>\n",
       "      <td>2012.000000</td>\n",
       "      <td>40.430000</td>\n",
       "      <td>28.390000</td>\n",
       "      <td>7.200000</td>\n",
       "      <td>8.540000</td>\n",
       "      <td>81.120000</td>\n",
       "      <td>97.000000</td>\n",
       "    </tr>\n",
       "  </tbody>\n",
       "</table>\n",
       "</div>"
      ],
      "text/plain": [
       "            Rank         Year  North America       Europe        Japan  \\\n",
       "count  1907.0000  1878.000000    1907.000000  1907.000000  1907.000000   \n",
       "mean    954.0000  2003.766773       1.258789     0.706675     0.317493   \n",
       "std     550.6478     5.895369       1.956560     1.148904     0.724945   \n",
       "min       1.0000  1983.000000       0.000000     0.000000     0.000000   \n",
       "25%     477.5000  2000.000000       0.510000     0.230000     0.000000   \n",
       "50%     954.0000  2005.000000       0.810000     0.440000     0.020000   \n",
       "75%    1430.5000  2008.000000       1.375000     0.810000     0.300000   \n",
       "max    1907.0000  2012.000000      40.430000    28.390000     7.200000   \n",
       "\n",
       "       Rest of World       Global       Review  \n",
       "count    1907.000000  1907.000000  1907.000000  \n",
       "mean        0.206471     2.489240    79.038977  \n",
       "std         0.343093     3.563159    10.616899  \n",
       "min         0.000000     0.830000    30.500000  \n",
       "25%         0.060000     1.110000    74.000000  \n",
       "50%         0.130000     1.530000    81.000000  \n",
       "75%         0.220000     2.540000    86.230000  \n",
       "max         8.540000    81.120000    97.000000  "
      ]
     },
     "execution_count": 9,
     "metadata": {},
     "output_type": "execute_result"
    }
   ],
   "source": [
    "video_games_data.describe()"
   ]
  },
  {
   "cell_type": "markdown",
   "id": "63126f34",
   "metadata": {},
   "source": [
    "## **Missing Data**\n"
   ]
  },
  {
   "cell_type": "markdown",
   "id": "b7971306",
   "metadata": {},
   "source": [
    "Check columns for search missing values"
   ]
  },
  {
   "cell_type": "code",
   "execution_count": 10,
   "id": "e698b623",
   "metadata": {},
   "outputs": [
    {
     "data": {
      "text/plain": [
       "Rank              0\n",
       "Game Title        0\n",
       "Platform          0\n",
       "Year             29\n",
       "Genre             0\n",
       "Publisher         2\n",
       "North America     0\n",
       "Europe            0\n",
       "Japan             0\n",
       "Rest of World     0\n",
       "Global            0\n",
       "Review            0\n",
       "dtype: int64"
      ]
     },
     "execution_count": 10,
     "metadata": {},
     "output_type": "execute_result"
    }
   ],
   "source": [
    "video_games_data.isna().sum()"
   ]
  },
  {
   "cell_type": "markdown",
   "id": "c99b32bd",
   "metadata": {},
   "source": [
    "The most relevant missing data is in the *Year* column. However, since this column contains numeric values, mean imputation was applied (No issues with outlier values, as a video game can be either older or newer.). "
   ]
  },
  {
   "cell_type": "code",
   "execution_count": 16,
   "id": "5ae9a557",
   "metadata": {},
   "outputs": [
    {
     "data": {
      "text/plain": [
       "2004.0"
      ]
     },
     "execution_count": 16,
     "metadata": {},
     "output_type": "execute_result"
    }
   ],
   "source": [
    "mean_year=round(np.mean(video_games_data['Year']),0)\n",
    "mean_year"
   ]
  },
  {
   "cell_type": "code",
   "execution_count": 18,
   "id": "daddd352",
   "metadata": {},
   "outputs": [
    {
     "data": {
      "text/plain": [
       "Rank             0\n",
       "Game Title       0\n",
       "Platform         0\n",
       "Year             0\n",
       "Genre            0\n",
       "Publisher        0\n",
       "North America    0\n",
       "Europe           0\n",
       "Japan            0\n",
       "Rest of World    0\n",
       "Global           0\n",
       "Review           0\n",
       "dtype: int64"
      ]
     },
     "execution_count": 18,
     "metadata": {},
     "output_type": "execute_result"
    }
   ],
   "source": [
    "video_games_data.fillna(value=mean_year,inplace=True)\n",
    "video_games_data.isna().sum()"
   ]
  },
  {
   "cell_type": "markdown",
   "id": "65521a85",
   "metadata": {},
   "source": [
    "## **Manipulation of data**"
   ]
  },
  {
   "cell_type": "markdown",
   "id": "801317ea",
   "metadata": {},
   "source": [
    "What genres are the most critically acclaimed in the world?"
   ]
  },
  {
   "cell_type": "code",
   "execution_count": 4,
   "id": "89af484c",
   "metadata": {},
   "outputs": [
    {
     "data": {
      "text/plain": [
       "Genre\n",
       "Sports          308\n",
       "Action          275\n",
       "Shooter         206\n",
       "Platform        188\n",
       "Racing          186\n",
       "Role-Playing    173\n",
       "Misc            159\n",
       "Fighting        126\n",
       "Adventure       110\n",
       "Simulation       92\n",
       "Puzzle           44\n",
       "Strategy         40\n",
       "Name: count, dtype: int64"
      ]
     },
     "execution_count": 4,
     "metadata": {},
     "output_type": "execute_result"
    }
   ],
   "source": [
    "video_games_data['Genre'].value_counts()"
   ]
  },
  {
   "cell_type": "markdown",
   "id": "098bbf2a",
   "metadata": {},
   "source": [
    "Pearson skewness coefficient"
   ]
  },
  {
   "cell_type": "code",
   "execution_count": 48,
   "id": "4d7c856c",
   "metadata": {},
   "outputs": [
    {
     "name": "stdout",
     "output_type": "stream",
     "text": [
      "Genre\n",
      "Action         -0.562276\n",
      "Adventure      -0.160555\n",
      "Fighting       -0.665116\n",
      "Misc           -0.667656\n",
      "Platform       -0.681844\n",
      "Puzzle         -0.804148\n",
      "Racing         -0.879797\n",
      "Role-Playing   -0.761187\n",
      "Shooter        -0.786219\n",
      "Simulation     -0.849911\n",
      "Sports         -0.680216\n",
      "Strategy       -0.031159\n",
      "Name: Review, dtype: float64\n",
      "Genre\n",
      "Action         -0.938831\n",
      "Adventure      -1.395543\n",
      "Fighting       -2.300191\n",
      "Misc           -1.037887\n",
      "Platform       -1.072434\n",
      "Puzzle         -1.125920\n",
      "Racing         -0.899382\n",
      "Role-Playing   -1.527725\n",
      "Shooter        -0.989822\n",
      "Simulation     -0.801294\n",
      "Sports         -1.911829\n",
      "Strategy       -1.229497\n",
      "Name: Review, dtype: float64\n"
     ]
    }
   ],
   "source": [
    "import scipy.stats as st\n",
    "def skewness(data)->float:\n",
    "    \"\"\"Calculate the Pearson skewness coefficient\n",
    "\n",
    "    :param data: A pandas series of data\n",
    "    :type data: pandas series\n",
    "    :return: the Pearson skewness coefficient\n",
    "    :rtype: float\n",
    "    \"\"\"\n",
    "    return (3*(np.mean(data)-np.median(data)))/np.std(data)\n",
    "\n",
    "skewness_by_genre=video_games_data.groupby('Genre')['Review'].agg(skewness)\n",
    "skewness_by_genre_v2=video_games_data.groupby('Genre')['Review'].agg(st.skew)\n",
    "print(skewness_by_genre)\n",
    "print(skewness_by_genre_v2)"
   ]
  },
  {
   "cell_type": "markdown",
   "id": "38e5fa1a",
   "metadata": {},
   "source": [
    "the skewness are  moderately or low , for this reason will apply the mean "
   ]
  },
  {
   "cell_type": "code",
   "execution_count": 12,
   "id": "631c760d",
   "metadata": {},
   "outputs": [
    {
     "data": {
      "text/plain": [
       "Genre\n",
       "Role-Playing    83.913410\n",
       "Strategy        82.437250\n",
       "Fighting        82.208651\n",
       "Adventure       81.480182\n",
       "Shooter         81.079806\n",
       "Action          78.953709\n",
       "Sports          78.839513\n",
       "Platform        78.384202\n",
       "Racing          78.105376\n",
       "Puzzle          74.306818\n",
       "Simulation      73.811848\n",
       "Misc            72.769874\n",
       "Name: Review, dtype: float64"
      ]
     },
     "execution_count": 12,
     "metadata": {},
     "output_type": "execute_result"
    }
   ],
   "source": [
    "best_review_genre=video_games_data.groupby('Genre')['Review'].agg('mean').sort_values(ascending=False)"
   ]
  },
  {
   "cell_type": "code",
   "execution_count": 49,
   "id": "9240d92d",
   "metadata": {},
   "outputs": [
    {
     "data": {
      "image/png": "[encoded data removed]",
      "text/plain": [
       "<Figure size 640x480 with 1 Axes>"
      ]
     },
     "metadata": {},
     "output_type": "display_data"
    }
   ],
   "source": [
    "plt.style.use('bmh')\n",
    "fig,ax=plt.subplots()\n",
    "ax.bar(best_review_genre.index,best_review_genre,color='y')\n",
    "ax.set_xticks(best_review_genre.index)\n",
    "ax.set_xticklabels(best_review_genre.index,rotation=90)\n",
    "ax.set_xlabel('Genre')\n",
    "ax.set_ylabel('Review Score average (0-100)')\n",
    "plt.show()"
   ]
  },
  {
   "cell_type": "markdown",
   "id": "9a3acecb",
   "metadata": {},
   "source": [
    "Role-playing games have received positive reviews; however, it's essential to assess whether these reviews correlate with the sales of each video game. This analysis will help determine if role-playing games are the most profitable. A combination of good sales and positive reviews increases the likelihood of expanding the released saga, potentially into other media"
   ]
  },
  {
   "cell_type": "code",
   "execution_count": 53,
   "id": "9c700425",
   "metadata": {},
   "outputs": [
    {
     "data": {
      "text/plain": [
       "<Axes: title={'center': 'Review Score vs Global Sales'}, xlabel='Global Sales (in millions)', ylabel='Review Score'>"
      ]
     },
     "execution_count": 53,
     "metadata": {},
     "output_type": "execute_result"
    },
    {
     "data": {
      "image/png": "[encoded data removed]",
      "text/plain": [
       "<Figure size 640x480 with 1 Axes>"
      ]
     },
     "metadata": {},
     "output_type": "display_data"
    }
   ],
   "source": [
    "video_games_data.plot(y='Review',x='Global',kind='scatter',title='Review Score vs Global Sales',ylabel='Review Score',xlabel='Global Sales (in millions)')"
   ]
  },
  {
   "cell_type": "code",
   "execution_count": 54,
   "id": "9209b235",
   "metadata": {},
   "outputs": [
    {
     "data": {
      "text/plain": [
       "0.18188142297287072"
      ]
     },
     "execution_count": 54,
     "metadata": {},
     "output_type": "execute_result"
    }
   ],
   "source": [
    "video_games_data['Global'].corr(video_games_data['Review'])"
   ]
  }
 ],
 "metadata": {
  "kernelspec": {
   "display_name": "Python 3 (ipykernel)",
   "language": "python",
   "name": "python3"
  },
  "language_info": {
   "codemirror_mode": {
    "name": "ipython",
    "version": 3
   },
   "file_extension": ".py",
   "mimetype": "text/x-python",
   "name": "python",
   "nbconvert_exporter": "python",
   "pygments_lexer": "ipython3",
   "version": "3.11.4"
  }
 },
 "nbformat": 4,
 "nbformat_minor": 5
}
